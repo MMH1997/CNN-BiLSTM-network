{
 "cells": [
  {
   "cell_type": "markdown",
   "id": "620f1c05",
   "metadata": {},
   "source": [
    "### Import required libraries"
   ]
  },
  {
   "cell_type": "code",
   "execution_count": 205,
   "id": "94024817",
   "metadata": {
    "scrolled": true
   },
   "outputs": [
    {
     "name": "stdout",
     "output_type": "stream",
     "text": [
      "Requirement already satisfied: netron in c:\\programdata\\anaconda3\\lib\\site-packages (5.5.5)\n"
     ]
    },
    {
     "name": "stderr",
     "output_type": "stream",
     "text": [
      "WARNING: Ignoring invalid distribution -ikit-learn (c:\\programdata\\anaconda3\\lib\\site-packages)\n",
      "WARNING: Ignoring invalid distribution -2ikit-learn (c:\\programdata\\anaconda3\\lib\\site-packages)\n",
      "WARNING: Ignoring invalid distribution -1ikit-learn (c:\\programdata\\anaconda3\\lib\\site-packages)\n",
      "WARNING: Ignoring invalid distribution -umpy (c:\\programdata\\anaconda3\\lib\\site-packages)\n",
      "WARNING: Ignoring invalid distribution -ikit-learn (c:\\programdata\\anaconda3\\lib\\site-packages)\n",
      "WARNING: Ignoring invalid distribution -0ikit-learn (c:\\programdata\\anaconda3\\lib\\site-packages)\n",
      "WARNING: Ignoring invalid distribution - (c:\\programdata\\anaconda3\\lib\\site-packages)\n",
      "WARNING: Ignoring invalid distribution -cikit-learn (c:\\programdata\\anaconda3\\lib\\site-packages)\n",
      "WARNING: Ignoring invalid distribution -ikit-learn (c:\\programdata\\anaconda3\\lib\\site-packages)\n",
      "WARNING: Ignoring invalid distribution -2ikit-learn (c:\\programdata\\anaconda3\\lib\\site-packages)\n",
      "WARNING: Ignoring invalid distribution -1ikit-learn (c:\\programdata\\anaconda3\\lib\\site-packages)\n",
      "WARNING: Ignoring invalid distribution -umpy (c:\\programdata\\anaconda3\\lib\\site-packages)\n",
      "WARNING: Ignoring invalid distribution -ikit-learn (c:\\programdata\\anaconda3\\lib\\site-packages)\n",
      "WARNING: Ignoring invalid distribution -0ikit-learn (c:\\programdata\\anaconda3\\lib\\site-packages)\n",
      "WARNING: Ignoring invalid distribution - (c:\\programdata\\anaconda3\\lib\\site-packages)\n",
      "WARNING: Ignoring invalid distribution -cikit-learn (c:\\programdata\\anaconda3\\lib\\site-packages)\n",
      "WARNING: Ignoring invalid distribution -ikit-learn (c:\\programdata\\anaconda3\\lib\\site-packages)\n",
      "WARNING: Ignoring invalid distribution -2ikit-learn (c:\\programdata\\anaconda3\\lib\\site-packages)\n",
      "WARNING: Ignoring invalid distribution -1ikit-learn (c:\\programdata\\anaconda3\\lib\\site-packages)\n",
      "WARNING: Ignoring invalid distribution -umpy (c:\\programdata\\anaconda3\\lib\\site-packages)\n",
      "WARNING: Ignoring invalid distribution -ikit-learn (c:\\programdata\\anaconda3\\lib\\site-packages)\n",
      "WARNING: Ignoring invalid distribution -0ikit-learn (c:\\programdata\\anaconda3\\lib\\site-packages)\n",
      "WARNING: Ignoring invalid distribution - (c:\\programdata\\anaconda3\\lib\\site-packages)\n",
      "WARNING: Ignoring invalid distribution -cikit-learn (c:\\programdata\\anaconda3\\lib\\site-packages)\n",
      "WARNING: Ignoring invalid distribution -ikit-learn (c:\\programdata\\anaconda3\\lib\\site-packages)\n",
      "WARNING: Ignoring invalid distribution -2ikit-learn (c:\\programdata\\anaconda3\\lib\\site-packages)\n",
      "WARNING: Ignoring invalid distribution -1ikit-learn (c:\\programdata\\anaconda3\\lib\\site-packages)\n",
      "WARNING: Ignoring invalid distribution -umpy (c:\\programdata\\anaconda3\\lib\\site-packages)\n",
      "WARNING: Ignoring invalid distribution -ikit-learn (c:\\programdata\\anaconda3\\lib\\site-packages)\n",
      "WARNING: Ignoring invalid distribution -0ikit-learn (c:\\programdata\\anaconda3\\lib\\site-packages)\n",
      "WARNING: Ignoring invalid distribution - (c:\\programdata\\anaconda3\\lib\\site-packages)\n",
      "WARNING: Ignoring invalid distribution -cikit-learn (c:\\programdata\\anaconda3\\lib\\site-packages)\n",
      "WARNING: Ignoring invalid distribution -ikit-learn (c:\\programdata\\anaconda3\\lib\\site-packages)\n",
      "WARNING: Ignoring invalid distribution -2ikit-learn (c:\\programdata\\anaconda3\\lib\\site-packages)\n",
      "WARNING: Ignoring invalid distribution -1ikit-learn (c:\\programdata\\anaconda3\\lib\\site-packages)\n",
      "WARNING: Ignoring invalid distribution -umpy (c:\\programdata\\anaconda3\\lib\\site-packages)\n",
      "WARNING: Ignoring invalid distribution -ikit-learn (c:\\programdata\\anaconda3\\lib\\site-packages)\n",
      "WARNING: Ignoring invalid distribution -0ikit-learn (c:\\programdata\\anaconda3\\lib\\site-packages)\n",
      "WARNING: Ignoring invalid distribution - (c:\\programdata\\anaconda3\\lib\\site-packages)\n",
      "WARNING: Ignoring invalid distribution -cikit-learn (c:\\programdata\\anaconda3\\lib\\site-packages)\n",
      "WARNING: Ignoring invalid distribution -ikit-learn (c:\\programdata\\anaconda3\\lib\\site-packages)\n",
      "WARNING: Ignoring invalid distribution -2ikit-learn (c:\\programdata\\anaconda3\\lib\\site-packages)\n",
      "WARNING: Ignoring invalid distribution -1ikit-learn (c:\\programdata\\anaconda3\\lib\\site-packages)\n",
      "WARNING: Ignoring invalid distribution -umpy (c:\\programdata\\anaconda3\\lib\\site-packages)\n",
      "WARNING: Ignoring invalid distribution -ikit-learn (c:\\programdata\\anaconda3\\lib\\site-packages)\n",
      "WARNING: Ignoring invalid distribution -0ikit-learn (c:\\programdata\\anaconda3\\lib\\site-packages)\n",
      "WARNING: Ignoring invalid distribution - (c:\\programdata\\anaconda3\\lib\\site-packages)\n",
      "WARNING: Ignoring invalid distribution -cikit-learn (c:\\programdata\\anaconda3\\lib\\site-packages)\n"
     ]
    }
   ],
   "source": [
    "import pandas as pd\n",
    "import numpy as np\n",
    "import matplotlib.pyplot as plt \n",
    "from numpy import array\n",
    "from keras.models import Sequential\n",
    "from keras.layers import LSTM\n",
    "from keras.layers import Bidirectional\n",
    "from keras.layers import Dense\n",
    "from keras.layers import Flatten\n",
    "from keras.layers import TimeDistributed\n",
    "from keras.layers import Dropout\n",
    "from keras.layers.convolutional import Conv1D\n",
    "from keras.layers.convolutional import MaxPooling1D\n",
    "from sklearn.preprocessing import LabelEncoder\n",
    "from sklearn.preprocessing import MinMaxScaler\n",
    "from numpy import array\n",
    "from sklearn.model_selection import train_test_split\n",
    "from sklearn.metrics import mean_absolute_error as MAE\n",
    "import random\n",
    "from sklearn.metrics import accuracy_score\n",
    "from sklearn.metrics import confusion_matrix\n",
    "!pip install netron\n",
    "import netron\n",
    "from random import randint"
   ]
  },
  {
   "cell_type": "markdown",
   "id": "2a2a8740",
   "metadata": {},
   "source": [
    "First of all, we define this function which split a given sequence into multiple samples where each sample has a specified number of time steps and a specifieded number of outputs."
   ]
  },
  {
   "cell_type": "code",
   "execution_count": 101,
   "id": "69fa5973",
   "metadata": {},
   "outputs": [],
   "source": [
    "def split_sequences(sequences, n_steps_in, n_steps_out):\n",
    "\tX, y = list(), list()\n",
    "\tfor i in range(len(sequences)):\n",
    "\t\t# find the end of this pattern\n",
    "\t\tend_ix = i + n_steps_in\n",
    "\t\tout_end_ix = end_ix + n_steps_out-1\n",
    "\t\t# check if we are beyond the dataset\n",
    "\t\tif out_end_ix > len(sequences):\n",
    "\t\t\tbreak\n",
    "\t\t# gather input and output parts of the pattern\n",
    "\t\tseq_x, seq_y = sequences[i:end_ix, :-1], sequences[end_ix-1:out_end_ix, -1]\n",
    "\t\tX.append(seq_x)\n",
    "\t\ty.append(seq_y)\n",
    "\treturn array(X), array(y)\n",
    "\n"
   ]
  },
  {
   "cell_type": "markdown",
   "id": "c4e7debc",
   "metadata": {},
   "source": [
    "## Data preprocessing"
   ]
  },
  {
   "cell_type": "markdown",
   "id": "d280a6d2",
   "metadata": {},
   "source": [
    "We import data and remove the index. "
   ]
  },
  {
   "cell_type": "code",
   "execution_count": 192,
   "id": "1e2768fa",
   "metadata": {
    "scrolled": true
   },
   "outputs": [
    {
     "name": "stdout",
     "output_type": "stream",
     "text": [
      "       var1(t-12)  var2(t-12)  var3(t-12)  var4(t-12)  var5(t-12)  var6(t-12)  \\\n",
      "0             799      1442.0       658.0        76.0         0.0        36.0   \n",
      "1             894       903.0       458.0        76.0         0.0        36.0   \n",
      "2             760       397.0       190.0        76.0         0.0        36.0   \n",
      "3             669       312.0       147.0        76.0         0.0        36.0   \n",
      "4             665       299.0       124.0        76.0         0.0        36.0   \n",
      "...           ...         ...         ...         ...         ...         ...   \n",
      "31374         261       260.0       114.0       218.0         0.0       170.0   \n",
      "31375         395       420.0       170.0       218.0         0.0       170.0   \n",
      "31376         459       590.0       228.0       218.0         0.0       170.0   \n",
      "31377         631       696.0       305.0       218.0         0.0       170.0   \n",
      "31378         743       852.0       353.0       218.0         0.0       170.0   \n",
      "\n",
      "       var7(t-12) var8(t-12)  obj  \n",
      "0           116.0    festivo  468  \n",
      "1           116.0    festivo  201  \n",
      "2           116.0    festivo  243  \n",
      "3           116.0    festivo  349  \n",
      "4           116.0    festivo  430  \n",
      "...           ...        ...  ...  \n",
      "31374       265.0     sábado  347  \n",
      "31375       265.0     sábado  311  \n",
      "31376       265.0     sábado  216  \n",
      "31377       265.0     sábado  182  \n",
      "31378       265.0     sábado  164  \n",
      "\n",
      "[31379 rows x 9 columns]\n",
      "0        2018-01-01 13:00:00\n",
      "1        2018-01-01 14:00:00\n",
      "2        2018-01-01 15:00:00\n",
      "3        2018-01-01 16:00:00\n",
      "4        2018-01-01 17:00:00\n",
      "                ...         \n",
      "31374    2021-07-31 19:00:00\n",
      "31375    2021-07-31 20:00:00\n",
      "31376    2021-07-31 21:00:00\n",
      "31377    2021-07-31 22:00:00\n",
      "31378    2021-07-31 23:00:00\n",
      "Name: clave, Length: 31379, dtype: object\n"
     ]
    }
   ],
   "source": [
    "data=pd.read_csv('AS2(t-12).csv')\n",
    "index = data['clave']\n",
    "data=data.drop(['clave'], axis=1)\n",
    "print(data)\n",
    "print(index)"
   ]
  },
  {
   "cell_type": "markdown",
   "id": "be30b826",
   "metadata": {},
   "source": [
    "We encode the categorical variable 'type of day'."
   ]
  },
  {
   "cell_type": "code",
   "execution_count": 167,
   "id": "887774e7",
   "metadata": {
    "scrolled": false
   },
   "outputs": [],
   "source": [
    "encoder = LabelEncoder()\n",
    "data[data.columns[7]] = encoder.fit_transform(data[data.columns[7]])\n"
   ]
  },
  {
   "cell_type": "markdown",
   "id": "dfd6a681",
   "metadata": {},
   "source": [
    "We add the variable 'hour'. "
   ]
  },
  {
   "cell_type": "code",
   "execution_count": 169,
   "id": "19df1977",
   "metadata": {},
   "outputs": [
    {
     "data": {
      "text/html": [
       "<div>\n",
       "<style scoped>\n",
       "    .dataframe tbody tr th:only-of-type {\n",
       "        vertical-align: middle;\n",
       "    }\n",
       "\n",
       "    .dataframe tbody tr th {\n",
       "        vertical-align: top;\n",
       "    }\n",
       "\n",
       "    .dataframe thead th {\n",
       "        text-align: right;\n",
       "    }\n",
       "</style>\n",
       "<table border=\"1\" class=\"dataframe\">\n",
       "  <thead>\n",
       "    <tr style=\"text-align: right;\">\n",
       "      <th></th>\n",
       "      <th>var1(t-12)</th>\n",
       "      <th>var2(t-12)</th>\n",
       "      <th>var3(t-12)</th>\n",
       "      <th>var4(t-12)</th>\n",
       "      <th>var5(t-12)</th>\n",
       "      <th>var6(t-12)</th>\n",
       "      <th>var7(t-12)</th>\n",
       "      <th>var8(t-12)</th>\n",
       "      <th>hour</th>\n",
       "      <th>obj</th>\n",
       "    </tr>\n",
       "  </thead>\n",
       "  <tbody>\n",
       "    <tr>\n",
       "      <th>0</th>\n",
       "      <td>799</td>\n",
       "      <td>1442.0</td>\n",
       "      <td>658.0</td>\n",
       "      <td>76.0</td>\n",
       "      <td>0.0</td>\n",
       "      <td>36.0</td>\n",
       "      <td>116.0</td>\n",
       "      <td>1</td>\n",
       "      <td>13</td>\n",
       "      <td>468</td>\n",
       "    </tr>\n",
       "    <tr>\n",
       "      <th>1</th>\n",
       "      <td>894</td>\n",
       "      <td>903.0</td>\n",
       "      <td>458.0</td>\n",
       "      <td>76.0</td>\n",
       "      <td>0.0</td>\n",
       "      <td>36.0</td>\n",
       "      <td>116.0</td>\n",
       "      <td>1</td>\n",
       "      <td>14</td>\n",
       "      <td>201</td>\n",
       "    </tr>\n",
       "    <tr>\n",
       "      <th>2</th>\n",
       "      <td>760</td>\n",
       "      <td>397.0</td>\n",
       "      <td>190.0</td>\n",
       "      <td>76.0</td>\n",
       "      <td>0.0</td>\n",
       "      <td>36.0</td>\n",
       "      <td>116.0</td>\n",
       "      <td>1</td>\n",
       "      <td>15</td>\n",
       "      <td>243</td>\n",
       "    </tr>\n",
       "    <tr>\n",
       "      <th>3</th>\n",
       "      <td>669</td>\n",
       "      <td>312.0</td>\n",
       "      <td>147.0</td>\n",
       "      <td>76.0</td>\n",
       "      <td>0.0</td>\n",
       "      <td>36.0</td>\n",
       "      <td>116.0</td>\n",
       "      <td>1</td>\n",
       "      <td>16</td>\n",
       "      <td>349</td>\n",
       "    </tr>\n",
       "    <tr>\n",
       "      <th>4</th>\n",
       "      <td>665</td>\n",
       "      <td>299.0</td>\n",
       "      <td>124.0</td>\n",
       "      <td>76.0</td>\n",
       "      <td>0.0</td>\n",
       "      <td>36.0</td>\n",
       "      <td>116.0</td>\n",
       "      <td>1</td>\n",
       "      <td>17</td>\n",
       "      <td>430</td>\n",
       "    </tr>\n",
       "    <tr>\n",
       "      <th>...</th>\n",
       "      <td>...</td>\n",
       "      <td>...</td>\n",
       "      <td>...</td>\n",
       "      <td>...</td>\n",
       "      <td>...</td>\n",
       "      <td>...</td>\n",
       "      <td>...</td>\n",
       "      <td>...</td>\n",
       "      <td>...</td>\n",
       "      <td>...</td>\n",
       "    </tr>\n",
       "    <tr>\n",
       "      <th>31374</th>\n",
       "      <td>261</td>\n",
       "      <td>260.0</td>\n",
       "      <td>114.0</td>\n",
       "      <td>218.0</td>\n",
       "      <td>0.0</td>\n",
       "      <td>170.0</td>\n",
       "      <td>265.0</td>\n",
       "      <td>3</td>\n",
       "      <td>19</td>\n",
       "      <td>347</td>\n",
       "    </tr>\n",
       "    <tr>\n",
       "      <th>31375</th>\n",
       "      <td>395</td>\n",
       "      <td>420.0</td>\n",
       "      <td>170.0</td>\n",
       "      <td>218.0</td>\n",
       "      <td>0.0</td>\n",
       "      <td>170.0</td>\n",
       "      <td>265.0</td>\n",
       "      <td>3</td>\n",
       "      <td>20</td>\n",
       "      <td>311</td>\n",
       "    </tr>\n",
       "    <tr>\n",
       "      <th>31376</th>\n",
       "      <td>459</td>\n",
       "      <td>590.0</td>\n",
       "      <td>228.0</td>\n",
       "      <td>218.0</td>\n",
       "      <td>0.0</td>\n",
       "      <td>170.0</td>\n",
       "      <td>265.0</td>\n",
       "      <td>3</td>\n",
       "      <td>21</td>\n",
       "      <td>216</td>\n",
       "    </tr>\n",
       "    <tr>\n",
       "      <th>31377</th>\n",
       "      <td>631</td>\n",
       "      <td>696.0</td>\n",
       "      <td>305.0</td>\n",
       "      <td>218.0</td>\n",
       "      <td>0.0</td>\n",
       "      <td>170.0</td>\n",
       "      <td>265.0</td>\n",
       "      <td>3</td>\n",
       "      <td>22</td>\n",
       "      <td>182</td>\n",
       "    </tr>\n",
       "    <tr>\n",
       "      <th>31378</th>\n",
       "      <td>743</td>\n",
       "      <td>852.0</td>\n",
       "      <td>353.0</td>\n",
       "      <td>218.0</td>\n",
       "      <td>0.0</td>\n",
       "      <td>170.0</td>\n",
       "      <td>265.0</td>\n",
       "      <td>3</td>\n",
       "      <td>23</td>\n",
       "      <td>164</td>\n",
       "    </tr>\n",
       "  </tbody>\n",
       "</table>\n",
       "<p>31379 rows × 10 columns</p>\n",
       "</div>"
      ],
      "text/plain": [
       "       var1(t-12)  var2(t-12)  var3(t-12)  var4(t-12)  var5(t-12)  var6(t-12)  \\\n",
       "0             799      1442.0       658.0        76.0         0.0        36.0   \n",
       "1             894       903.0       458.0        76.0         0.0        36.0   \n",
       "2             760       397.0       190.0        76.0         0.0        36.0   \n",
       "3             669       312.0       147.0        76.0         0.0        36.0   \n",
       "4             665       299.0       124.0        76.0         0.0        36.0   \n",
       "...           ...         ...         ...         ...         ...         ...   \n",
       "31374         261       260.0       114.0       218.0         0.0       170.0   \n",
       "31375         395       420.0       170.0       218.0         0.0       170.0   \n",
       "31376         459       590.0       228.0       218.0         0.0       170.0   \n",
       "31377         631       696.0       305.0       218.0         0.0       170.0   \n",
       "31378         743       852.0       353.0       218.0         0.0       170.0   \n",
       "\n",
       "       var7(t-12)  var8(t-12)  hour  obj  \n",
       "0           116.0           1    13  468  \n",
       "1           116.0           1    14  201  \n",
       "2           116.0           1    15  243  \n",
       "3           116.0           1    16  349  \n",
       "4           116.0           1    17  430  \n",
       "...           ...         ...   ...  ...  \n",
       "31374       265.0           3    19  347  \n",
       "31375       265.0           3    20  311  \n",
       "31376       265.0           3    21  216  \n",
       "31377       265.0           3    22  182  \n",
       "31378       265.0           3    23  164  \n",
       "\n",
       "[31379 rows x 10 columns]"
      ]
     },
     "execution_count": 169,
     "metadata": {},
     "output_type": "execute_result"
    }
   ],
   "source": [
    "a1=list(range(13,24))\n",
    "a2=list(range(0,24))*1306\n",
    "a3=list(range(0,24))\n",
    "a4=a1+a2+a3\n",
    "data['hour'] = a4\n",
    "data = data.reindex(columns=[data.columns[0],data.columns[1],data.columns[2],data.columns[3],data.columns[4],\n",
    "                             data.columns[5],data.columns[6],data.columns[7],'hour','obj'])\n",
    "data"
   ]
  },
  {
   "cell_type": "markdown",
   "id": "d15aa123",
   "metadata": {},
   "source": [
    "We normalise all input variables. "
   ]
  },
  {
   "cell_type": "code",
   "execution_count": 105,
   "id": "2ee945ee",
   "metadata": {},
   "outputs": [],
   "source": [
    "scaler = MinMaxScaler(feature_range=(0, 1))\n",
    "data[data.columns.difference(['obj'])] = scaler.fit_transform(data[data.columns.difference(['obj'])])"
   ]
  },
  {
   "cell_type": "markdown",
   "id": "70833ef1",
   "metadata": {},
   "source": [
    "We apply the previously defined function. We split the original sequence data. Each sample has six time steps as predictor variables (from timestep t-15 to timestep t-12) and one target variable (timestep t). "
   ]
  },
  {
   "cell_type": "code",
   "execution_count": 106,
   "id": "a69fe166",
   "metadata": {},
   "outputs": [],
   "source": [
    "data1=data.values\n",
    "X, y = split_sequences(data1,4,1)"
   ]
  },
  {
   "cell_type": "markdown",
   "id": "0c0c02e7",
   "metadata": {},
   "source": [
    "## Data analyse"
   ]
  },
  {
   "cell_type": "markdown",
   "id": "9095a6a0",
   "metadata": {},
   "source": [
    "We make a simple statistical analysis of the target variable. "
   ]
  },
  {
   "cell_type": "code",
   "execution_count": 195,
   "id": "b97e680a",
   "metadata": {},
   "outputs": [
    {
     "data": {
      "text/plain": [
       "count    31379.000000\n",
       "mean       434.569712\n",
       "std        349.978099\n",
       "min          0.000000\n",
       "25%        106.000000\n",
       "50%        371.000000\n",
       "75%        738.000000\n",
       "max       2888.000000\n",
       "Name: obj, dtype: float64"
      ]
     },
     "execution_count": 195,
     "metadata": {},
     "output_type": "execute_result"
    }
   ],
   "source": [
    "dataplot = data\n",
    "dataplot['obj'].describe()"
   ]
  },
  {
   "cell_type": "markdown",
   "id": "0a79747b",
   "metadata": {},
   "source": [
    "We plot linechart of the evolution of traffic flow in the first week of 2018 (first available data). "
   ]
  },
  {
   "cell_type": "code",
   "execution_count": 246,
   "id": "ec54b07c",
   "metadata": {},
   "outputs": [
    {
     "data": {
      "image/png": "[encoded data removed]",
      "text/plain": [
       "<Figure size 432x288 with 1 Axes>"
      ]
     },
     "metadata": {
      "needs_background": "light"
     },
     "output_type": "display_data"
    }
   ],
   "source": [
    "plt.plot(list(dataplot['obj'][0:24*7]),\n",
    "        label=index, linewidth=3)\n",
    "plt.title('First week of 2018. Arturo Soria Station')\n",
    "plt.ylabel('Hourly traffic flow')\n",
    "plt.show()"
   ]
  },
  {
   "cell_type": "markdown",
   "id": "21a54aee",
   "metadata": {},
   "source": [
    "## Model development. "
   ]
  },
  {
   "cell_type": "markdown",
   "id": "ba4b8a99",
   "metadata": {},
   "source": [
    "We reshape our data to have the structure required by the neural network. "
   ]
  },
  {
   "cell_type": "code",
   "execution_count": 109,
   "id": "7ac00f3a",
   "metadata": {},
   "outputs": [],
   "source": [
    "X = X.reshape((X.shape[0], X.shape[1], X.shape[2])).astype('float32')\n",
    "y = y.reshape((y.shape[0], y.shape[1], y.shape[2])).astype('float32')"
   ]
  },
  {
   "cell_type": "markdown",
   "id": "4cdc15b6",
   "metadata": {},
   "source": [
    "We divide randomly our data in the train and test sets. "
   ]
  },
  {
   "cell_type": "code",
   "execution_count": 115,
   "id": "3ccc3d3a",
   "metadata": {},
   "outputs": [],
   "source": [
    "X_train, X_test, y_train, y_test = train_test_split(\n",
    "X, y, test_size=0.33, random_state=42)"
   ]
  },
  {
   "cell_type": "markdown",
   "id": "373b5a45",
   "metadata": {},
   "source": [
    "We develop our model by using keras and tensorflow. First, we apply a convolutional neural network with 256 kernels which is followed by a max pooling. Then, we flatten data. \n",
    "\n",
    "Subsequently, we use the flatten data as input in the Bidirectional long short term memory network, with 500 units. It is followed by a dropout layer and, finally, we apply a dense layer to obtain the required prediction. "
   ]
  },
  {
   "cell_type": "code",
   "execution_count": 120,
   "id": "05a46bef",
   "metadata": {
    "scrolled": true
   },
   "outputs": [],
   "source": [
    "model3 = Sequential()\n",
    "model3.add(TimeDistributed(Conv1D(filters=256, kernel_size=2, activation='relu'), input_shape=(4,9,1)))\n",
    "model3.add(TimeDistributed(MaxPooling1D(pool_size=2, padding='same')))\n",
    "model3.add(TimeDistributed(Flatten()))\n",
    "model3.add(Bidirectional(LSTM(500, activation = 'relu')))\n",
    "model3.add(Dropout(0.5))\n",
    "model3.add(Dense(1))\n",
    "model3.compile(optimizer = 'adam', loss = 'mae')"
   ]
  },
  {
   "cell_type": "markdown",
   "id": "4d27af34",
   "metadata": {},
   "source": [
    "We provide a graphical representation of the model by using Netron. Reader can deeply analyse each layer of the model. "
   ]
  },
  {
   "cell_type": "code",
   "execution_count": 122,
   "id": "64828cc6",
   "metadata": {
    "scrolled": true
   },
   "outputs": [
    {
     "name": "stdout",
     "output_type": "stream",
     "text": [
      "Serving 'model.h5' at http://localhost:8080\n"
     ]
    },
    {
     "data": {
      "text/plain": [
       "('localhost', 8080)"
      ]
     },
     "execution_count": 122,
     "metadata": {},
     "output_type": "execute_result"
    }
   ],
   "source": [
    "model3.save('model.h5')\n",
    "netron.start('model.h5')"
   ]
  },
  {
   "cell_type": "markdown",
   "id": "cb4ebcb6",
   "metadata": {},
   "source": [
    "We train the model."
   ]
  },
  {
   "cell_type": "code",
   "execution_count": 123,
   "id": "b99da937",
   "metadata": {
    "scrolled": true
   },
   "outputs": [
    {
     "name": "stdout",
     "output_type": "stream",
     "text": [
      "Epoch 1/100\n",
      "657/657 [==============================] - 71s 106ms/step - loss: 241.0814 - val_loss: 190.7856\n",
      "Epoch 2/100\n",
      "657/657 [==============================] - 68s 104ms/step - loss: 173.8271 - val_loss: 146.5818\n",
      "Epoch 3/100\n",
      "657/657 [==============================] - 68s 104ms/step - loss: 150.8029 - val_loss: 132.6890\n",
      "Epoch 4/100\n",
      "657/657 [==============================] - 69s 105ms/step - loss: 144.2565 - val_loss: 132.1290\n",
      "Epoch 5/100\n",
      "657/657 [==============================] - 70s 107ms/step - loss: 135.9356 - val_loss: 118.6247\n",
      "Epoch 6/100\n",
      "657/657 [==============================] - 70s 107ms/step - loss: 128.7651 - val_loss: 119.1878\n",
      "Epoch 7/100\n",
      "657/657 [==============================] - 68s 104ms/step - loss: 123.1257 - val_loss: 109.8890\n",
      "Epoch 8/100\n",
      "657/657 [==============================] - 72s 110ms/step - loss: 120.0189 - val_loss: 106.0444\n",
      "Epoch 9/100\n",
      "657/657 [==============================] - 69s 104ms/step - loss: 115.8272 - val_loss: 107.2274\n",
      "Epoch 10/100\n",
      "657/657 [==============================] - 71s 107ms/step - loss: 112.6450 - val_loss: 109.3334\n",
      "Epoch 11/100\n",
      "657/657 [==============================] - 71s 107ms/step - loss: 111.3176 - val_loss: 98.5060\n",
      "Epoch 12/100\n",
      "657/657 [==============================] - 70s 107ms/step - loss: 107.4510 - val_loss: 98.1292\n",
      "Epoch 13/100\n",
      "657/657 [==============================] - 69s 105ms/step - loss: 106.1975 - val_loss: 95.1072\n",
      "Epoch 14/100\n",
      "657/657 [==============================] - 68s 103ms/step - loss: 103.9212 - val_loss: 93.2624\n",
      "Epoch 15/100\n",
      "657/657 [==============================] - 68s 104ms/step - loss: 102.4807 - val_loss: 105.2982\n",
      "Epoch 16/100\n",
      "657/657 [==============================] - 68s 104ms/step - loss: 102.2327 - val_loss: 97.3676\n",
      "Epoch 17/100\n",
      "657/657 [==============================] - 70s 106ms/step - loss: 99.6576 - val_loss: 89.4990\n",
      "Epoch 18/100\n",
      "657/657 [==============================] - 66s 101ms/step - loss: 99.6150 - val_loss: 88.4317\n",
      "Epoch 19/100\n",
      "657/657 [==============================] - 64s 98ms/step - loss: 97.2950 - val_loss: 104.1029\n",
      "Epoch 20/100\n",
      "657/657 [==============================] - 64s 98ms/step - loss: 96.8372 - val_loss: 92.9964\n",
      "Epoch 21/100\n",
      "657/657 [==============================] - 65s 99ms/step - loss: 95.9749 - val_loss: 89.2693\n",
      "Epoch 22/100\n",
      "657/657 [==============================] - 65s 98ms/step - loss: 94.8551 - val_loss: 88.4188\n",
      "Epoch 23/100\n",
      "657/657 [==============================] - 64s 98ms/step - loss: 94.0327 - val_loss: 86.8569\n",
      "Epoch 24/100\n",
      "657/657 [==============================] - 64s 98ms/step - loss: 93.1835 - val_loss: 85.6380\n",
      "Epoch 25/100\n",
      "657/657 [==============================] - 64s 98ms/step - loss: 91.6266 - val_loss: 84.1448\n",
      "Epoch 26/100\n",
      "657/657 [==============================] - 64s 98ms/step - loss: 91.0306 - val_loss: 81.0936\n",
      "Epoch 27/100\n",
      "657/657 [==============================] - 64s 98ms/step - loss: 91.2374 - val_loss: 83.4017\n",
      "Epoch 28/100\n",
      "657/657 [==============================] - 64s 98ms/step - loss: 89.4790 - val_loss: 83.0501\n",
      "Epoch 29/100\n",
      "657/657 [==============================] - 64s 98ms/step - loss: 89.3280 - val_loss: 83.4686\n",
      "Epoch 30/100\n",
      "657/657 [==============================] - 64s 97ms/step - loss: 89.2872 - val_loss: 89.3185\n",
      "Epoch 31/100\n",
      "657/657 [==============================] - 64s 98ms/step - loss: 88.4224 - val_loss: 80.3275\n",
      "Epoch 32/100\n",
      "657/657 [==============================] - 64s 98ms/step - loss: 88.1940 - val_loss: 83.8196\n",
      "Epoch 33/100\n",
      "657/657 [==============================] - 64s 98ms/step - loss: 87.6214 - val_loss: 79.2355\n",
      "Epoch 34/100\n",
      "657/657 [==============================] - 64s 98ms/step - loss: 86.9580 - val_loss: 77.1691\n",
      "Epoch 35/100\n",
      "657/657 [==============================] - 64s 98ms/step - loss: 85.5405 - val_loss: 104.6331\n",
      "Epoch 36/100\n",
      "657/657 [==============================] - 64s 98ms/step - loss: 85.8141 - val_loss: 86.7252\n",
      "Epoch 37/100\n",
      "657/657 [==============================] - 64s 98ms/step - loss: 85.1572 - val_loss: 80.7594\n",
      "Epoch 38/100\n",
      "657/657 [==============================] - 64s 98ms/step - loss: 83.7953 - val_loss: 76.0288\n",
      "Epoch 39/100\n",
      "657/657 [==============================] - 64s 98ms/step - loss: 83.3489 - val_loss: 83.8407\n",
      "Epoch 40/100\n",
      "657/657 [==============================] - 64s 98ms/step - loss: 83.3645 - val_loss: 77.8071\n",
      "Epoch 41/100\n",
      "657/657 [==============================] - 64s 98ms/step - loss: 83.4016 - val_loss: 81.8178\n",
      "Epoch 42/100\n",
      "657/657 [==============================] - 71s 108ms/step - loss: 82.3750 - val_loss: 79.1198\n",
      "Epoch 43/100\n",
      "657/657 [==============================] - 68s 104ms/step - loss: 82.1839 - val_loss: 74.8155\n",
      "Epoch 44/100\n",
      "657/657 [==============================] - 68s 103ms/step - loss: 81.4694 - val_loss: 77.6657\n",
      "Epoch 45/100\n",
      "657/657 [==============================] - 67s 103ms/step - loss: 81.0498 - val_loss: 75.1459\n",
      "Epoch 46/100\n",
      "657/657 [==============================] - 67s 102ms/step - loss: 80.9070 - val_loss: 73.0667\n",
      "Epoch 47/100\n",
      "657/657 [==============================] - 68s 103ms/step - loss: 80.3188 - val_loss: 76.2443\n",
      "Epoch 48/100\n",
      "657/657 [==============================] - 67s 102ms/step - loss: 79.9432 - val_loss: 76.4176\n",
      "Epoch 49/100\n",
      "657/657 [==============================] - 67s 103ms/step - loss: 79.8247 - val_loss: 71.1927\n",
      "Epoch 50/100\n",
      "657/657 [==============================] - 67s 103ms/step - loss: 78.9456 - val_loss: 70.4466\n",
      "Epoch 51/100\n",
      "657/657 [==============================] - 67s 103ms/step - loss: 78.3370 - val_loss: 69.5357\n",
      "Epoch 52/100\n",
      "657/657 [==============================] - 67s 102ms/step - loss: 77.5900 - val_loss: 70.9766\n",
      "Epoch 53/100\n",
      "657/657 [==============================] - 68s 103ms/step - loss: 78.0307 - val_loss: 72.6177\n",
      "Epoch 54/100\n",
      "657/657 [==============================] - 67s 103ms/step - loss: 77.5120 - val_loss: 72.7047\n",
      "Epoch 55/100\n",
      "657/657 [==============================] - 68s 103ms/step - loss: 77.6401 - val_loss: 73.1901\n",
      "Epoch 56/100\n",
      "657/657 [==============================] - 68s 104ms/step - loss: 76.7509 - val_loss: 69.8592\n",
      "Epoch 57/100\n",
      "657/657 [==============================] - 68s 104ms/step - loss: 76.5165 - val_loss: 70.7313\n",
      "Epoch 58/100\n",
      "657/657 [==============================] - 68s 104ms/step - loss: 75.5572 - val_loss: 68.8108\n",
      "Epoch 59/100\n",
      "657/657 [==============================] - 68s 103ms/step - loss: 76.0947 - val_loss: 69.7541\n",
      "Epoch 60/100\n",
      "657/657 [==============================] - 70s 107ms/step - loss: 75.7839 - val_loss: 69.0651\n",
      "Epoch 61/100\n",
      "657/657 [==============================] - 71s 108ms/step - loss: 75.1089 - val_loss: 70.4616\n",
      "Epoch 62/100\n",
      "657/657 [==============================] - 69s 105ms/step - loss: 75.2613 - val_loss: 68.5747\n",
      "Epoch 63/100\n",
      "657/657 [==============================] - 67s 102ms/step - loss: 74.7376 - val_loss: 70.0329\n",
      "Epoch 64/100\n",
      "657/657 [==============================] - 68s 103ms/step - loss: 74.0847 - val_loss: 71.0024\n",
      "Epoch 65/100\n",
      "657/657 [==============================] - 67s 102ms/step - loss: 74.0425 - val_loss: 73.0560\n",
      "Epoch 66/100\n",
      "657/657 [==============================] - 67s 102ms/step - loss: 73.3343 - val_loss: 72.1814\n",
      "Epoch 67/100\n",
      "657/657 [==============================] - 67s 102ms/step - loss: 73.3920 - val_loss: 72.5053\n",
      "Epoch 68/100\n",
      "657/657 [==============================] - 73s 111ms/step - loss: 73.0872 - val_loss: 69.3922\n",
      "Epoch 69/100\n",
      "657/657 [==============================] - 69s 104ms/step - loss: 72.9958 - val_loss: 67.7504\n",
      "Epoch 70/100\n",
      "657/657 [==============================] - 69s 106ms/step - loss: 73.3652 - val_loss: 69.1941\n",
      "Epoch 71/100\n",
      "657/657 [==============================] - 69s 104ms/step - loss: 71.8927 - val_loss: 66.4086\n",
      "Epoch 72/100\n",
      "657/657 [==============================] - 69s 105ms/step - loss: 72.3131 - val_loss: 68.2715\n",
      "Epoch 73/100\n",
      "657/657 [==============================] - 69s 104ms/step - loss: 72.2386 - val_loss: 71.0385\n",
      "Epoch 74/100\n",
      "657/657 [==============================] - 65s 100ms/step - loss: 70.6153 - val_loss: 67.0045\n",
      "Epoch 75/100\n",
      "657/657 [==============================] - 70s 107ms/step - loss: 71.4137 - val_loss: 65.8393\n",
      "Epoch 76/100\n",
      "657/657 [==============================] - 70s 107ms/step - loss: 71.2671 - val_loss: 71.4156\n",
      "Epoch 77/100\n"
     ]
    },
    {
     "name": "stdout",
     "output_type": "stream",
     "text": [
      "657/657 [==============================] - 68s 103ms/step - loss: 70.9163 - val_loss: 66.9596\n",
      "Epoch 78/100\n",
      "657/657 [==============================] - 68s 103ms/step - loss: 70.5018 - val_loss: 66.5123\n",
      "Epoch 79/100\n",
      "657/657 [==============================] - 68s 103ms/step - loss: 70.4080 - val_loss: 66.0453\n",
      "Epoch 80/100\n",
      "657/657 [==============================] - 68s 103ms/step - loss: 69.9882 - val_loss: 66.4021\n",
      "Epoch 81/100\n",
      "657/657 [==============================] - 70s 106ms/step - loss: 70.2513 - val_loss: 64.6908\n",
      "Epoch 82/100\n",
      "657/657 [==============================] - 71s 107ms/step - loss: 70.3361 - val_loss: 66.0763\n",
      "Epoch 83/100\n",
      "657/657 [==============================] - 65s 99ms/step - loss: 69.7801 - val_loss: 68.2007\n",
      "Epoch 84/100\n",
      "657/657 [==============================] - 65s 99ms/step - loss: 69.2984 - val_loss: 63.9239\n",
      "Epoch 85/100\n",
      "657/657 [==============================] - 65s 99ms/step - loss: 68.9812 - val_loss: 66.2811\n",
      "Epoch 86/100\n",
      "657/657 [==============================] - 66s 100ms/step - loss: 69.2091 - val_loss: 66.2490\n",
      "Epoch 87/100\n",
      "657/657 [==============================] - 66s 101ms/step - loss: 68.8417 - val_loss: 64.8701\n",
      "Epoch 88/100\n",
      "657/657 [==============================] - 65s 99ms/step - loss: 69.0303 - val_loss: 66.3942\n",
      "Epoch 89/100\n",
      "657/657 [==============================] - 65s 99ms/step - loss: 68.2721 - val_loss: 67.5144\n",
      "Epoch 90/100\n",
      "657/657 [==============================] - 65s 99ms/step - loss: 67.9728 - val_loss: 68.4941\n",
      "Epoch 91/100\n",
      "657/657 [==============================] - 65s 99ms/step - loss: 68.2178 - val_loss: 65.8933\n",
      "Epoch 92/100\n",
      "657/657 [==============================] - 65s 99ms/step - loss: 68.0037 - val_loss: 65.3375\n",
      "Epoch 93/100\n",
      "657/657 [==============================] - 65s 99ms/step - loss: 67.0623 - val_loss: 65.2671\n",
      "Epoch 94/100\n",
      "657/657 [==============================] - 65s 99ms/step - loss: 67.4383 - val_loss: 64.7953\n",
      "Epoch 95/100\n",
      "657/657 [==============================] - 65s 99ms/step - loss: 67.5467 - val_loss: 65.7042\n",
      "Epoch 96/100\n",
      "657/657 [==============================] - 65s 99ms/step - loss: 66.9642 - val_loss: 65.2077\n",
      "Epoch 97/100\n",
      "657/657 [==============================] - 66s 101ms/step - loss: 66.7469 - val_loss: 66.1559\n",
      "Epoch 98/100\n",
      "657/657 [==============================] - 65s 99ms/step - loss: 66.9576 - val_loss: 64.7188\n",
      "Epoch 99/100\n",
      "657/657 [==============================] - 65s 99ms/step - loss: 67.2631 - val_loss: 64.0365\n",
      "Epoch 100/100\n",
      "657/657 [==============================] - 65s 99ms/step - loss: 66.4105 - val_loss: 64.4409\n"
     ]
    }
   ],
   "source": [
    "history3=model3.fit(X_train,y_train,epochs=100,batch_size = 32, shuffle=True,validation_data=(X_test,y_test))"
   ]
  },
  {
   "cell_type": "markdown",
   "id": "339bdebf",
   "metadata": {},
   "source": [
    "## Model evaluation"
   ]
  },
  {
   "cell_type": "markdown",
   "id": "510a0fb2",
   "metadata": {},
   "source": [
    "We define this function, which will be useful to evaluate the model."
   ]
  },
  {
   "cell_type": "code",
   "execution_count": 128,
   "id": "5fd4932e",
   "metadata": {},
   "outputs": [],
   "source": [
    "def flatten(t):\n",
    "    return [item for sublist in t for item in sublist]"
   ]
  },
  {
   "cell_type": "markdown",
   "id": "13609814",
   "metadata": {},
   "source": [
    "We evaluate the model by using the first metric (mean absolute error). "
   ]
  },
  {
   "cell_type": "code",
   "execution_count": 130,
   "id": "a5e5ec4d",
   "metadata": {},
   "outputs": [
    {
     "name": "stdout",
     "output_type": "stream",
     "text": [
      "64.44088\n"
     ]
    }
   ],
   "source": [
    "pred = model3.predict(X_test)\n",
    "MAE = MAE(flatten(pred),flatten(y_test))\n",
    "print(MAE)"
   ]
  },
  {
   "cell_type": "markdown",
   "id": "e6295973",
   "metadata": {},
   "source": [
    "We will evaluate the model with the second metric (accuracy). For this, we divide target variable in three categories: first, data between percentil 0 and 15; second, data between percentil 15 and 85 and thrid, data between percentil 85 and 100. "
   ]
  },
  {
   "cell_type": "code",
   "execution_count": 134,
   "id": "246a33c5",
   "metadata": {},
   "outputs": [],
   "source": [
    "obj = list(data['obj'].values)"
   ]
  },
  {
   "cell_type": "code",
   "execution_count": 138,
   "id": "3eb7bd53",
   "metadata": {
    "scrolled": false
   },
   "outputs": [
    {
     "name": "stdout",
     "output_type": "stream",
     "text": [
      "0\n",
      "48.0\n",
      "838.0\n",
      "2888\n",
      "\n"
     ]
    }
   ],
   "source": [
    "print(np.quantile(obj, 0))\n",
    "print(np.quantile(obj, 0.15))\n",
    "print(np.quantile(obj, 0.85))\n",
    "print(np.quantile(obj, 1))"
   ]
  },
  {
   "cell_type": "markdown",
   "id": "0b65b28c",
   "metadata": {},
   "source": [
    "We add and substract a small value in extreme values in order to avoid issues. We also transform the predictions lower than 0 in 0. "
   ]
  },
  {
   "cell_type": "code",
   "execution_count": 154,
   "id": "2436da1a",
   "metadata": {},
   "outputs": [],
   "source": [
    "bins = [np.quantile(obj, 0)-0.001,np.quantile(obj, 0.15),np.quantile(obj, 0.85),np.quantile(obj, 1)+0.001]\n",
    "names = ['a','b','c']\n",
    "for i in range(len(pred)):\n",
    "    if pred[i]<0:\n",
    "        pred[i] = 0\n",
    "pred2=pd.cut(flatten(pred), bins, labels = names)\n",
    "ytest2=pd.cut(flatten(flatten(y_test)), bins, labels = names)"
   ]
  },
  {
   "cell_type": "markdown",
   "id": "a891fbf8",
   "metadata": {},
   "source": [
    "We obtain the accuracy metric and the confusion matrix corresponding. "
   ]
  },
  {
   "cell_type": "code",
   "execution_count": 157,
   "id": "90a32eb8",
   "metadata": {},
   "outputs": [
    {
     "name": "stdout",
     "output_type": "stream",
     "text": [
      "0.8747464992757122\n",
      "[[1223  306    0]\n",
      " [ 214 6815  260]\n",
      " [   0  517 1020]]\n"
     ]
    }
   ],
   "source": [
    "print(accuracy_score(ytest2,pred2))\n",
    "print(confusion_matrix(ytest2,pred2))"
   ]
  },
  {
   "cell_type": "markdown",
   "id": "343e7eb3",
   "metadata": {},
   "source": [
    "###  Plotting the actual and predicted values. "
   ]
  },
  {
   "cell_type": "markdown",
   "id": "d0d64ad5",
   "metadata": {},
   "source": [
    "We selelct randomly an observation of the entire dataset and we will analyse the 100 successive observations. We plot\n",
    "the actual and the predicted values of these observations. "
   ]
  },
  {
   "cell_type": "code",
   "execution_count": 242,
   "id": "d6802f6a",
   "metadata": {},
   "outputs": [
    {
     "data": {
      "text/plain": [
       "17742"
      ]
     },
     "execution_count": 242,
     "metadata": {},
     "output_type": "execute_result"
    }
   ],
   "source": [
    "rand = randint(0, 30000)\n",
    "rand"
   ]
  },
  {
   "cell_type": "code",
   "execution_count": 247,
   "id": "6f9e268c",
   "metadata": {},
   "outputs": [
    {
     "data": {
      "image/png": "[encoded data removed]",
      "text/plain": [
       "<Figure size 432x288 with 1 Axes>"
      ]
     },
     "metadata": {
      "needs_background": "light"
     },
     "output_type": "display_data"
    }
   ],
   "source": [
    "plt.plot(flatten(flatten(y[rand:rand+100])), label = \"Actual values\")\n",
    "plt.plot(flatten(model3.predict(X[rand:rand+100])), label = \"Predicted values\")\n",
    "plt.legend()\n",
    "plt.ylabel('Hourly traffic flow')\n",
    "plt.show()"
   ]
  },
  {
   "cell_type": "code",
   "execution_count": null,
   "id": "0d81d41f",
   "metadata": {},
   "outputs": [],
   "source": []
  },
  {
   "cell_type": "code",
   "execution_count": null,
   "id": "0f93527f",
   "metadata": {},
   "outputs": [],
   "source": []
  }
 ],
 "metadata": {
  "kernelspec": {
   "display_name": "Python 3 (ipykernel)",
   "language": "python",
   "name": "python3"
  },
  "language_info": {
   "codemirror_mode": {
    "name": "ipython",
    "version": 3
   },
   "file_extension": ".py",
   "mimetype": "text/x-python",
   "name": "python",
   "nbconvert_exporter": "python",
   "pygments_lexer": "ipython3",
   "version": "3.9.7"
  }
 },
 "nbformat": 4,
 "nbformat_minor": 5
}
