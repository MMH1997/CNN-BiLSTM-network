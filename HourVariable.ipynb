{
 "cells": [
  {
   "cell_type": "markdown",
   "id": "f4b7c4e1",
   "metadata": {},
   "source": [
    "## Create the 'hour variable'"
   ]
  },
  {
   "cell_type": "markdown",
   "id": "5fab8bc2",
   "metadata": {},
   "source": [
    "For 12 hours granularity"
   ]
  },
  {
   "cell_type": "code",
   "execution_count": 3,
   "id": "f28258af",
   "metadata": {},
   "outputs": [],
   "source": [
    "a1=list(range(13,24))\n",
    "a2=list(range(0,24))*1306\n",
    "a3=list(range(0,24))\n",
    "a4=a1+a2+a3"
   ]
  },
  {
   "cell_type": "markdown",
   "id": "aef8a887",
   "metadata": {},
   "source": [
    "For 24 hours granularity"
   ]
  },
  {
   "cell_type": "code",
   "execution_count": 4,
   "id": "aeeb2738",
   "metadata": {},
   "outputs": [],
   "source": [
    "a1=list(range(1,24))\n",
    "a2=list(range(0,24))*1305\n",
    "a3=list(range(0,24))\n",
    "a4=a1+a2+a3"
   ]
  },
  {
   "cell_type": "markdown",
   "id": "72e14940",
   "metadata": {},
   "source": [
    "For 48 hours granularity"
   ]
  },
  {
   "cell_type": "code",
   "execution_count": null,
   "id": "47298f6c",
   "metadata": {},
   "outputs": [],
   "source": [
    "a1=list(range(1,24))\n",
    "a2=list(range(0,24))*1304\n",
    "a3=list(range(0,24))\n",
    "a4=a1+a2+a3"
   ]
  },
  {
   "cell_type": "markdown",
   "id": "d682e245",
   "metadata": {},
   "source": [
    "For 72 hours granularity"
   ]
  },
  {
   "cell_type": "code",
   "execution_count": 5,
   "id": "1d3d8309",
   "metadata": {},
   "outputs": [],
   "source": [
    "a1=list(range(1,24))\n",
    "a2=list(range(0,24))*1303\n",
    "a3=list(range(0,24))\n",
    "a4=a1+a2+a3"
   ]
  }
 ],
 "metadata": {
  "kernelspec": {
   "display_name": "Python 3 (ipykernel)",
   "language": "python",
   "name": "python3"
  },
  "language_info": {
   "codemirror_mode": {
    "name": "ipython",
    "version": 3
   },
   "file_extension": ".py",
   "mimetype": "text/x-python",
   "name": "python",
   "nbconvert_exporter": "python",
   "pygments_lexer": "ipython3",
   "version": "3.9.7"
  }
 },
 "nbformat": 4,
 "nbformat_minor": 5
}
